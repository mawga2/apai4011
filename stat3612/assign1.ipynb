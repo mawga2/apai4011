{
 "cells": [
  {
   "cell_type": "markdown",
   "id": "c651aee0",
   "metadata": {},
   "source": [
    "## STAT3612: Statistical Machine Learning\n",
    "### Assignment 1: Python basics and logistic regression\n",
    "### DUE: Oct 13, 2024, Sunday, 11:59 PM"
   ]
  },
  {
   "cell_type": "code",
   "execution_count": 1,
   "id": "7cb5305a",
   "metadata": {},
   "outputs": [
    {
     "name": "stdout",
     "output_type": "stream",
     "text": [
      "Requirement already satisfied: numpy in e:\\programs\\anaconda3\\envs\\tut\\lib\\site-packages (1.24.3)\n",
      "Requirement already satisfied: pandas in e:\\programs\\anaconda3\\envs\\tut\\lib\\site-packages (1.4.3)\n",
      "Requirement already satisfied: matplotlib in c:\\users\\weiqin zhao\\appdata\\roaming\\python\\python38\\site-packages (3.3.2)\n",
      "Requirement already satisfied: seaborn in e:\\programs\\anaconda3\\envs\\tut\\lib\\site-packages (0.12.0)\n",
      "Requirement already satisfied: sklearn in e:\\programs\\anaconda3\\envs\\tut\\lib\\site-packages (0.0)\n",
      "Requirement already satisfied: umap-learn in e:\\programs\\anaconda3\\envs\\tut\\lib\\site-packages (0.5.6)\n",
      "Requirement already satisfied: python-dateutil>=2.8.1 in e:\\programs\\anaconda3\\envs\\tut\\lib\\site-packages (from pandas) (2.8.2)\n",
      "Requirement already satisfied: pytz>=2020.1 in e:\\programs\\anaconda3\\envs\\tut\\lib\\site-packages (from pandas) (2022.1)\n",
      "Requirement already satisfied: certifi>=2020.06.20 in e:\\programs\\anaconda3\\envs\\tut\\lib\\site-packages (from matplotlib) (2022.12.7)\n",
      "Requirement already satisfied: pillow>=6.2.0 in e:\\programs\\anaconda3\\envs\\tut\\lib\\site-packages (from matplotlib) (9.3.0)\n",
      "Requirement already satisfied: pyparsing!=2.0.4,!=2.1.2,!=2.1.6,>=2.0.3 in e:\\programs\\anaconda3\\envs\\tut\\lib\\site-packages (from matplotlib) (3.0.9)\n",
      "Requirement already satisfied: cycler>=0.10 in e:\\programs\\anaconda3\\envs\\tut\\lib\\site-packages (from matplotlib) (0.11.0)\n",
      "Requirement already satisfied: kiwisolver>=1.0.1 in e:\\programs\\anaconda3\\envs\\tut\\lib\\site-packages (from matplotlib) (1.4.4)\n",
      "Requirement already satisfied: scikit-learn in e:\\programs\\anaconda3\\envs\\tut\\lib\\site-packages (from sklearn) (1.1.2)\n",
      "Requirement already satisfied: tqdm in e:\\programs\\anaconda3\\envs\\tut\\lib\\site-packages (from umap-learn) (4.64.1)\n",
      "Requirement already satisfied: numba>=0.51.2 in e:\\programs\\anaconda3\\envs\\tut\\lib\\site-packages (from umap-learn) (0.58.1)\n",
      "Requirement already satisfied: pynndescent>=0.5 in e:\\programs\\anaconda3\\envs\\tut\\lib\\site-packages (from umap-learn) (0.5.13)\n",
      "Requirement already satisfied: scipy>=1.3.1 in e:\\programs\\anaconda3\\envs\\tut\\lib\\site-packages (from umap-learn) (1.10.1)\n",
      "Requirement already satisfied: llvmlite<0.42,>=0.41.0dev0 in e:\\programs\\anaconda3\\envs\\tut\\lib\\site-packages (from numba>=0.51.2->umap-learn) (0.41.1)\n",
      "Requirement already satisfied: importlib-metadata in e:\\programs\\anaconda3\\envs\\tut\\lib\\site-packages (from numba>=0.51.2->umap-learn) (4.11.3)\n",
      "Requirement already satisfied: joblib>=0.11 in e:\\programs\\anaconda3\\envs\\tut\\lib\\site-packages (from pynndescent>=0.5->umap-learn) (1.2.0)\n",
      "Requirement already satisfied: six>=1.5 in e:\\programs\\anaconda3\\envs\\tut\\lib\\site-packages (from python-dateutil>=2.8.1->pandas) (1.16.0)\n",
      "Requirement already satisfied: threadpoolctl>=2.0.0 in e:\\programs\\anaconda3\\envs\\tut\\lib\\site-packages (from scikit-learn->sklearn) (3.1.0)\n",
      "Requirement already satisfied: colorama in e:\\programs\\anaconda3\\envs\\tut\\lib\\site-packages (from tqdm->umap-learn) (0.4.5)\n",
      "Requirement already satisfied: zipp>=0.5 in e:\\programs\\anaconda3\\envs\\tut\\lib\\site-packages (from importlib-metadata->numba>=0.51.2->umap-learn) (3.8.0)\n"
     ]
    },
    {
     "name": "stderr",
     "output_type": "stream",
     "text": [
      "WARNING: Ignoring invalid distribution -atplotlib (e:\\programs\\anaconda3\\envs\\tut\\lib\\site-packages)\n",
      "WARNING: Ignoring invalid distribution -atplotlib (e:\\programs\\anaconda3\\envs\\tut\\lib\\site-packages)\n",
      "WARNING: Ignoring invalid distribution -atplotlib (e:\\programs\\anaconda3\\envs\\tut\\lib\\site-packages)\n",
      "WARNING: Ignoring invalid distribution -atplotlib (e:\\programs\\anaconda3\\envs\\tut\\lib\\site-packages)\n",
      "WARNING: Ignoring invalid distribution -atplotlib (e:\\programs\\anaconda3\\envs\\tut\\lib\\site-packages)\n",
      "WARNING: Ignoring invalid distribution -atplotlib (e:\\programs\\anaconda3\\envs\\tut\\lib\\site-packages)\n"
     ]
    }
   ],
   "source": [
    "# TODO: please make sure you have Python 3.6+\n",
    "# please install these packages:\n",
    "! pip install numpy pandas matplotlib seaborn sklearn umap-learn"
   ]
  },
  {
   "cell_type": "code",
   "execution_count": 2,
   "id": "82bacd77",
   "metadata": {},
   "outputs": [],
   "source": [
    "import numpy as np\n",
    "import pandas as pd\n",
    "import matplotlib.pyplot as plt\n",
    "import seaborn as sns\n",
    "from typing import Tuple\n",
    "from sklearn.linear_model import LogisticRegression\n",
    "from sklearn.metrics import precision_recall_fscore_support, accuracy_score\n",
    "import umap\n",
    "\n",
    "sns.set_style(\"darkgrid\")"
   ]
  },
  {
   "cell_type": "markdown",
   "id": "50ee1159",
   "metadata": {},
   "source": [
    "#### Part 2: Python and NumPy basics"
   ]
  },
  {
   "cell_type": "code",
   "execution_count": 3,
   "id": "0285d35b",
   "metadata": {},
   "outputs": [],
   "source": [
    "file_path = \"Employee-Attrition-Classification.csv\"\n",
    "col_names = [\"Age\", \"Years at Company\",  \"Monthly Income\", \n",
    "             \"Distance from Home\", \"Company Tenure\", \"Number of Promotions\",\n",
    "             \"Number of Dependents\", \"Attrition\"]\n",
    "\n",
    "# Q3 (a)  \n",
    "\n",
    "# ------------------\n",
    "# Write your code here\n",
    "\n",
    "\n",
    "# ------------------"
   ]
  },
  {
   "cell_type": "code",
   "execution_count": 4,
   "id": "1b215fd3",
   "metadata": {},
   "outputs": [],
   "source": [
    "# Q3 (b)  \n",
    "\n",
    "attr_names = [\"Age\", \"Years at Company\",  \"Monthly Income\", \n",
    "             \"Distance from Home\", \"Company Tenure\", \"Number of Promotions\",\n",
    "             \"Number of Dependents\"]\n",
    "\n",
    "# ------------------\n",
    "# Write your code here\n",
    "\n",
    "\n",
    "\n",
    "# ------------------"
   ]
  },
  {
   "cell_type": "code",
   "execution_count": 5,
   "id": "d99e565c",
   "metadata": {},
   "outputs": [],
   "source": [
    "# Q3 (c)  \n",
    "\n",
    "# ------------------\n",
    "# Write your code here\n",
    "\n",
    "\n",
    "# ------------------"
   ]
  },
  {
   "cell_type": "code",
   "execution_count": 6,
   "id": "b3ed6107",
   "metadata": {},
   "outputs": [],
   "source": [
    "# Q3 (d)  \n",
    "\n",
    "attr_names = [\"Age\", \"Years at Company\",  \"Monthly Income\", \n",
    "             \"Distance from Home\", \"Company Tenure\", \"Number of Promotions\",\n",
    "             \"Number of Dependents\"]\n",
    "\n",
    "# ------------------\n",
    "# Write your code here\n",
    "\n",
    "             \n",
    "\n",
    "# ------------------"
   ]
  },
  {
   "cell_type": "code",
   "execution_count": 7,
   "id": "b633add8",
   "metadata": {},
   "outputs": [],
   "source": [
    "# Q3 (e)  \n",
    "\n",
    "# ------------------\n",
    "# Write your code here\n",
    "\n",
    "\n",
    "\n",
    "# ------------------"
   ]
  },
  {
   "cell_type": "markdown",
   "id": "600c79bf",
   "metadata": {},
   "source": [
    "We should calculate the mean and std only rely on training data, as testing data is considered as not known during training."
   ]
  },
  {
   "cell_type": "markdown",
   "id": "1b3ca92b",
   "metadata": {},
   "source": [
    "#### Part 2: Data visualization"
   ]
  },
  {
   "cell_type": "code",
   "execution_count": 8,
   "id": "14f44536",
   "metadata": {},
   "outputs": [],
   "source": [
    "# Q4 (a)  \n",
    "\n",
    "# ------------------\n",
    "# Write your code here\n",
    "\n",
    "\n",
    "\n",
    "# ------------------"
   ]
  },
  {
   "cell_type": "code",
   "execution_count": 9,
   "id": "dcaf5adf",
   "metadata": {},
   "outputs": [],
   "source": [
    "# Q4 (b)\n",
    "#  -------------------\n",
    "# Write your code here\n",
    "\n",
    "\n",
    "\n",
    "# -------------------"
   ]
  },
  {
   "cell_type": "code",
   "execution_count": 10,
   "id": "85da6e30",
   "metadata": {},
   "outputs": [],
   "source": [
    "# Q4 (c)\n",
    "#  -------------------\n",
    "# Write your code here\n",
    "\n",
    "\n",
    "\n",
    "#  -------------------"
   ]
  },
  {
   "cell_type": "markdown",
   "id": "f88c434c",
   "metadata": {},
   "source": [
    "#### Part 3: Logistic regression"
   ]
  },
  {
   "cell_type": "code",
   "execution_count": 11,
   "id": "a73cf58a",
   "metadata": {},
   "outputs": [],
   "source": [
    "# Q5 (a)\n",
    "\n",
    "train_columns = [\"Age\", \"Years at Company\",  \"Monthly Income\", \n",
    "             \"Distance from Home\", \"Company Tenure\", \"Number of Promotions\",\n",
    "             \"Number of Dependents\"]\n",
    "test_columns = [\"Attrition\"]\n",
    "\n",
    "# -------------------\n",
    "# Write your code here\n",
    "\n",
    "\n",
    "# -------------------"
   ]
  },
  {
   "cell_type": "markdown",
   "id": "795e89d8",
   "metadata": {},
   "source": [
    " Q5 (b)\n",
    " \n",
    "Write your ans here.\n",
    "\n",
    "As long as it is reasonable, it is ok."
   ]
  },
  {
   "cell_type": "code",
   "execution_count": 12,
   "id": "5dcd54ea",
   "metadata": {},
   "outputs": [],
   "source": [
    "# Q5 (c)\n",
    "\n",
    "# -------------------\n",
    "# Write your code here\n",
    "\n",
    "\n",
    "# -------------------"
   ]
  },
  {
   "cell_type": "code",
   "execution_count": 13,
   "id": "1d683d9d",
   "metadata": {},
   "outputs": [],
   "source": [
    "# Q5 (d)\n",
    "\n",
    "# -------------------\n",
    "# Write your code here\n",
    "\n",
    "\n",
    "\n",
    "# -------------------"
   ]
  },
  {
   "cell_type": "markdown",
   "id": "0451ac4f",
   "metadata": {},
   "source": [
    "Simply include more attributes could improve the performance easily."
   ]
  }
 ],
 "metadata": {
  "kernelspec": {
   "display_name": "Python 3 (ipykernel)",
   "language": "python",
   "name": "python3"
  },
  "language_info": {
   "codemirror_mode": {
    "name": "ipython",
    "version": 3
   },
   "file_extension": ".py",
   "mimetype": "text/x-python",
   "name": "python",
   "nbconvert_exporter": "python",
   "pygments_lexer": "ipython3",
   "version": "3.8.5"
  }
 },
 "nbformat": 4,
 "nbformat_minor": 5
}
